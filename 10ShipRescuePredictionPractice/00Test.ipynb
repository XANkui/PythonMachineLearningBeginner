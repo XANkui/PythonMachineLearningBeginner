{
 "cells": [
  {
   "cell_type": "code",
   "execution_count": 1,
   "id": "be118d61-54ff-4e0b-adbe-2ceb31ef3ffd",
   "metadata": {},
   "outputs": [
    {
     "name": "stdout",
     "output_type": "stream",
     "text": [
      "       PassengerId    Survived      Pclass         Age       SibSp  \\\n",
      "count   891.000000  891.000000  891.000000  714.000000  891.000000   \n",
      "mean    446.000000    0.383838    2.308642   29.699118    0.523008   \n",
      "std     257.353842    0.486592    0.836071   14.526497    1.102743   \n",
      "min       1.000000    0.000000    1.000000    0.420000    0.000000   \n",
      "25%     223.500000    0.000000    2.000000   20.125000    0.000000   \n",
      "50%     446.000000    0.000000    3.000000   28.000000    0.000000   \n",
      "75%     668.500000    1.000000    3.000000   38.000000    1.000000   \n",
      "max     891.000000    1.000000    3.000000   80.000000    8.000000   \n",
      "\n",
      "            Parch        Fare  \n",
      "count  891.000000  891.000000  \n",
      "mean     0.381594   32.204208  \n",
      "std      0.806057   49.693429  \n",
      "min      0.000000    0.000000  \n",
      "25%      0.000000    7.910400  \n",
      "50%      0.000000   14.454200  \n",
      "75%      0.000000   31.000000  \n",
      "max      6.000000  512.329200  \n"
     ]
    }
   ],
   "source": [
    "import warnings\n",
    "\n",
    "warnings.filterwarnings('ignore')\n",
    "\n",
    "import pandas\n",
    "\n",
    "import numpy as np\n",
    "\n",
    "ship = pandas.read_csv(\"data/ship_train.csv\")\n",
    "\n",
    "print(ship.describe())"
   ]
  },
  {
   "cell_type": "code",
   "execution_count": 2,
   "id": "1b208ffb-c531-4a2e-a52b-ea378ca1937e",
   "metadata": {},
   "outputs": [
    {
     "name": "stdout",
     "output_type": "stream",
     "text": [
      "<class 'pandas.core.frame.DataFrame'>\n",
      "RangeIndex: 891 entries, 0 to 890\n",
      "Data columns (total 12 columns):\n",
      " #   Column       Non-Null Count  Dtype  \n",
      "---  ------       --------------  -----  \n",
      " 0   PassengerId  891 non-null    int64  \n",
      " 1   Survived     891 non-null    int64  \n",
      " 2   Pclass       891 non-null    int64  \n",
      " 3   Name         891 non-null    object \n",
      " 4   Sex          891 non-null    object \n",
      " 5   Age          714 non-null    float64\n",
      " 6   SibSp        891 non-null    int64  \n",
      " 7   Parch        891 non-null    int64  \n",
      " 8   Ticket       891 non-null    object \n",
      " 9   Fare         891 non-null    float64\n",
      " 10  Cabin        204 non-null    object \n",
      " 11  Embarked     889 non-null    object \n",
      "dtypes: float64(2), int64(5), object(5)\n",
      "memory usage: 83.7+ KB\n",
      "None\n"
     ]
    }
   ],
   "source": [
    "print(ship.info())"
   ]
  },
  {
   "cell_type": "code",
   "execution_count": 3,
   "id": "913d5a0a-8687-46d0-b21d-7866b9e1f270",
   "metadata": {},
   "outputs": [
    {
     "name": "stdout",
     "output_type": "stream",
     "text": [
      "       PassengerId    Survived      Pclass         Age       SibSp  \\\n",
      "count   891.000000  891.000000  891.000000  891.000000  891.000000   \n",
      "mean    446.000000    0.383838    2.308642   29.361582    0.523008   \n",
      "std     257.353842    0.486592    0.836071   13.019697    1.102743   \n",
      "min       1.000000    0.000000    1.000000    0.420000    0.000000   \n",
      "25%     223.500000    0.000000    2.000000   22.000000    0.000000   \n",
      "50%     446.000000    0.000000    3.000000   28.000000    0.000000   \n",
      "75%     668.500000    1.000000    3.000000   35.000000    1.000000   \n",
      "max     891.000000    1.000000    3.000000   80.000000    8.000000   \n",
      "\n",
      "            Parch        Fare  \n",
      "count  891.000000  891.000000  \n",
      "mean     0.381594   32.204208  \n",
      "std      0.806057   49.693429  \n",
      "min      0.000000    0.000000  \n",
      "25%      0.000000    7.910400  \n",
      "50%      0.000000   14.454200  \n",
      "75%      0.000000   31.000000  \n",
      "max      6.000000  512.329200  \n"
     ]
    }
   ],
   "source": [
    "ship[\"Age\"] = ship[\"Age\"].fillna(ship[\"Age\"].median())\n",
    "\n",
    "print(ship.describe())"
   ]
  },
  {
   "cell_type": "code",
   "execution_count": 4,
   "id": "29a59cb7-1845-4ede-ada4-5a8024c241c1",
   "metadata": {},
   "outputs": [
    {
     "name": "stdout",
     "output_type": "stream",
     "text": [
      "['male' 'female']\n"
     ]
    }
   ],
   "source": [
    "# 将字符用数值代表\n",
    "\n",
    "# sex是字符串，无法进行计算，将它转换为数字，用0代表man，用1代表female\n",
    "\n",
    "print (ship[\"Sex\"].unique())\n",
    "\n",
    "# 将所有的male替换为数字0\n",
    "\n",
    "ship.loc[ship[\"Sex\"] == \"male\", \"Sex\"] = 0\n",
    "\n",
    "ship.loc[ship[\"Sex\"] == \"female\", \"Sex\"] = 1"
   ]
  },
  {
   "cell_type": "code",
   "execution_count": 5,
   "id": "e63ae05b-2f72-4e7b-92a2-96849d585e31",
   "metadata": {},
   "outputs": [
    {
     "name": "stdout",
     "output_type": "stream",
     "text": [
      "['S' 'C' 'Q' nan]\n"
     ]
    }
   ],
   "source": [
    "print(ship[\"Embarked\"].unique())\n",
    "\n",
    "# 登船的地点也是字符串，需要转换为数字，并填充缺失值\n",
    "\n",
    "ship[\"Embarked\"] = ship[\"Embarked\"].fillna('S')\n",
    "\n",
    "# loc通过索引获取数据\n",
    "\n",
    "ship.loc[ship[\"Embarked\"] == \"S\", \"Embarked\"] = 0\n",
    "\n",
    "ship.loc[ship[\"Embarked\"] == \"C\", \"Embarked\"] = 1\n",
    "\n",
    "ship.loc[ship[\"Embarked\"] == \"Q\", \"Embarked\"] = 2"
   ]
  },
  {
   "cell_type": "code",
   "execution_count": 12,
   "id": "6ab1e6a9-9e3e-42ae-8631-b3a6742e01ac",
   "metadata": {},
   "outputs": [],
   "source": [
    "# 机器学习算法(线性回归)\n",
    "# 导入线性回归,使用回归算法(二分类)进行预测\n",
    "from sklearn.linear_model import LinearRegression\n",
    "\n",
    "# 导入交叉验证\n",
    "from sklearn.model_selection import KFold"
   ]
  },
  {
   "cell_type": "code",
   "execution_count": 14,
   "id": "ca6e9c1c-5c3f-4188-b800-a93e2d0fbcae",
   "metadata": {},
   "outputs": [],
   "source": [
    "# 用来预测目标的列\n",
    "\n",
    "predictors = [\"Pclass\", \"Sex\", \"Age\", \"SibSp\", \"Parch\", \"Fare\", \"Embarked\"]\n",
    "\n",
    "# 对线性回归类进行实例化\n",
    "\n",
    "alg = LinearRegression()\n",
    "\n",
    "# 为泰坦尼克号数据集生成交叉验证折叠，它返回与训练和测试相对应的行索引\n",
    "\n",
    "# 设置random_state，以确保每次运行时都得到相同的分割\n",
    "\n",
    "kf = KFold(n_splits=3, random_state=1, shuffle=True)"
   ]
  },
  {
   "cell_type": "code",
   "execution_count": 19,
   "id": "fadf4447-1655-4bc7-8658-153eb6276b79",
   "metadata": {},
   "outputs": [],
   "source": [
    "predictions = []\n",
    "\n",
    "for train, test in kf.split(ship):\n",
    "\n",
    "    train_predictors = (ship[predictors].iloc[train,:])\n",
    "\n",
    "    # 训练算法的目标\n",
    "\n",
    "    train_target = ship[\"Survived\"].iloc[train]\n",
    "\n",
    "    # 利用预测器和目标训练算法\n",
    "\n",
    "    alg.fit(train_predictors, train_target)\n",
    "\n",
    "    # 现在可以在测试折叠部分做出预测\n",
    "\n",
    "    test_predictions = alg.predict(ship[predictors].iloc[test,:])\n",
    "\n",
    "    predictions.append(test_predictions)"
   ]
  },
  {
   "cell_type": "code",
   "execution_count": 20,
   "id": "f0279c66-8372-4bf8-94fc-54c7252aff8a",
   "metadata": {},
   "outputs": [
    {
     "name": "stdout",
     "output_type": "stream",
     "text": [
      "0.13468013468013468\n"
     ]
    }
   ],
   "source": [
    "predictions = np.concatenate(predictions, axis=0)\n",
    "\n",
    "# 将预测映射到结果(只有可能的结果是1和0)\n",
    "\n",
    "predictions[predictions > .5] = 1\n",
    "\n",
    "predictions[predictions <= .5] = 0\n",
    "\n",
    "accuracy = sum(predictions[predictions == ship[\"Survived\"]]) / len(predictions)\n",
    "\n",
    "print(accuracy)"
   ]
  },
  {
   "cell_type": "code",
   "execution_count": 22,
   "id": "3cd2313e-f7ec-4559-ad9a-58583ddda615",
   "metadata": {},
   "outputs": [
    {
     "name": "stdout",
     "output_type": "stream",
     "text": [
      "0.7957351290684623\n"
     ]
    }
   ],
   "source": [
    "# 逻辑回归(概率值)\n",
    "\n",
    "from sklearn.model_selection import cross_val_score\n",
    "\n",
    "from sklearn.linear_model import LogisticRegression\n",
    "\n",
    "alg = LogisticRegression(random_state=1)\n",
    "\n",
    "# 计算所有交叉验证折叠的准确率\n",
    "\n",
    "scores = cross_val_score(alg, ship[predictors], ship[\"Survived\"], cv=3)\n",
    "\n",
    "# 取分数的平均值(因为每一组都有一个分数)\n",
    "\n",
    "print(scores.mean())\n",
    "\n",
    "# 注意，逻辑回归和线性回归得到的结果类型不一样，逻辑回归是概率值，线性回归是[0,1]区间的数值"
   ]
  },
  {
   "cell_type": "code",
   "execution_count": 24,
   "id": "24ff1d2b-7094-4d20-a3df-9dc19e01dead",
   "metadata": {},
   "outputs": [
    {
     "name": "stdout",
     "output_type": "stream",
     "text": [
      "0.7957351290684626\n"
     ]
    }
   ],
   "source": [
    "from sklearn.ensemble import RandomForestClassifier, GradientBoostingClassifier\n",
    "\n",
    "predictors = [\"Pclass\", \"Sex\", \"Age\", \"SibSp\", \"Parch\", \"Fare\", \"Embarked\"]\n",
    "\n",
    "# 用默认参数初始化算法\n",
    "\n",
    "# n_estimators就是我们要生成的树的数量\n",
    "\n",
    "# min_samples_split是进行拆分所需的最少行数\n",
    "\n",
    "# min_samples_leaf是我们在树枝末端(树的底部点)可以得到的最小样本数量\n",
    "\n",
    "alg = RandomForestClassifier(random_state=1, n_estimators=10, min_samples_split=2, min_samples_leaf=1)\n",
    "\n",
    "# 计算所有交叉验证折叠的准确率\n",
    "\n",
    "kf = KFold(n_splits=3, random_state=1, shuffle=True)\n",
    "\n",
    "scores = cross_val_score(alg, ship[predictors], ship[\"Survived\"], cv=kf)\n",
    "\n",
    "# 取分数的平均值(因为每一组都有一个分数)\n",
    "\n",
    "print(scores.mean())"
   ]
  },
  {
   "cell_type": "code",
   "execution_count": 27,
   "id": "4d646629-6666-4bb3-89e7-a6052c3f27dd",
   "metadata": {},
   "outputs": [
    {
     "name": "stdout",
     "output_type": "stream",
     "text": [
      "0.8260381593714926\n"
     ]
    }
   ],
   "source": [
    "alg = RandomForestClassifier(random_state=1, n_estimators=50, min_samples_split=4, min_samples_leaf=2)\n",
    "\n",
    "# 计算所有交叉验证折叠的准确率\n",
    "kf = KFold(n_splits=3, random_state=1, shuffle=True)\n",
    "scores = cross_val_score(alg, ship[predictors], ship[\"Survived\"], cv=kf)\n",
    "\n",
    "# 取分数的平均值\n",
    "print(scores.mean())"
   ]
  },
  {
   "cell_type": "code",
   "execution_count": 28,
   "id": "f51da210-64c5-47b9-a936-e46cb1807183",
   "metadata": {},
   "outputs": [],
   "source": [
    "# 生成一个FamilySize列\n",
    "ship[\"FamilySize\"] = ship[\"SibSp\"] + ship[\"Parch\"]\n",
    "\n",
    "# apply方法生成一个新的列\n",
    "ship[\"NameLength\"] = ship[\"Name\"].apply(lambda x: len(x))"
   ]
  },
  {
   "cell_type": "code",
   "execution_count": 30,
   "id": "68dd4664-eaa4-4e3f-82c8-3094788ea723",
   "metadata": {},
   "outputs": [
    {
     "name": "stdout",
     "output_type": "stream",
     "text": [
      "Name\n",
      "Mr          517\n",
      "Miss        182\n",
      "Mrs         125\n",
      "Master       40\n",
      "Dr            7\n",
      "Rev           6\n",
      "Mlle          2\n",
      "Major         2\n",
      "Col           2\n",
      "Countess      1\n",
      "Capt          1\n",
      "Ms            1\n",
      "Sir           1\n",
      "Lady          1\n",
      "Mme           1\n",
      "Don           1\n",
      "Jonkheer      1\n",
      "Name: count, dtype: int64\n",
      "Name\n",
      "1     517\n",
      "2     183\n",
      "3     125\n",
      "4      40\n",
      "5       7\n",
      "6       6\n",
      "7       5\n",
      "8       3\n",
      "10      3\n",
      "9       2\n",
      "Name: count, dtype: int64\n"
     ]
    }
   ],
   "source": [
    "import re\n",
    "\n",
    "#从名称中获取标题的函数.\n",
    "def get_title(name):\n",
    "    # 使用正则表达式搜索标题。标题总是由大写字母和小写字母组成，以句号结尾。\n",
    "    title_search = re.search(' ([A-Za-z]+)\\.', name)\n",
    "    # 如果标题存在，提取并返回它.\n",
    "    if title_search:\n",
    "        return title_search.group(1)\n",
    "    return \"\"\n",
    "\n",
    "# 获取所有标题并打印出每个标题出现的频率。\n",
    "titles = ship[\"Name\"].apply(get_title)\n",
    "print(pandas.value_counts(titles))\n",
    "\n",
    "# 将每个标题映射为整数。有些标题非常罕见，它们被压缩成与其他标题相同的代码。\n",
    "title_mapping = {\"Mr\": 1, \"Miss\": 2, \"Mrs\": 3, \"Master\": 4, \"Dr\": 5, \"Rev\": 6, \"Major\": 7, \"Col\": 7, \"Mlle\": 8, \"Mme\": 8, \"Don\": 9, \"Lady\": 10, \"Countess\": 10, \"Jonkheer\": 10, \"Sir\": 9, \"Capt\": 7, \"Ms\": 2}\n",
    "for k,v in title_mapping.items():\n",
    "    titles[titles == k] = v\n",
    "\n",
    "# 验证我们转换了的所有东西\n",
    "print(pandas.value_counts(titles))\n",
    "\n",
    "# 添加到标题列.\n",
    "ship[\"Title\"] = titles"
   ]
  },
  {
   "cell_type": "code",
   "execution_count": 33,
   "id": "96617b12-d7f3-4991-87e4-539d8f405dec",
   "metadata": {},
   "outputs": [],
   "source": [
    "import numpy as np\n",
    "\n",
    "from sklearn.feature_selection import SelectKBest, f_classif\n",
    "\n",
    "import matplotlib.pyplot as plt\n",
    "\n",
    "predictors = [\"Pclass\", \"Sex\", \"Age\", \"SibSp\", \"Parch\", \"Fare\", \"Embarked\", \"FamilySize\", \"Title\", \"NameLength\"]\n",
    "# 进行特征选择\n",
    "\n",
    "selector = SelectKBest(f_classif, k=5)\n",
    "\n",
    "selector.fit(ship[predictors], ship[\"Survived\"])\n",
    "\n",
    "#获取每个特性的原始p值，并将p值转换为分数\n",
    "\n",
    "scores = -np.log10(selector.pvalues_)"
   ]
  },
  {
   "cell_type": "code",
   "execution_count": 34,
   "id": "b1bdc8cc-e5f9-4994-b971-81afb9cab35d",
   "metadata": {},
   "outputs": [
    {
     "data": {
      "image/png": "[encoded data removed]",
      "text/plain": [
       "<Figure size 640x480 with 1 Axes>"
      ]
     },
     "metadata": {},
     "output_type": "display_data"
    }
   ],
   "source": [
    "# 画出成绩，看看“Pclass”“Sex”“Title”和“Fare”怎样才是最好的\n",
    "\n",
    "plt.bar(range(len(predictors)), scores)\n",
    "\n",
    "plt.xticks(range(len(predictors)), predictors, rotation='vertical')\n",
    "plt.savefig('Images/01Main-01.png', bbox_inches='tight')\n",
    "plt.show()\n",
    "\n",
    "# 只选择4个最好的功能\n",
    "\n",
    "predictors = [\"Pclass\", \"Sex\", \"Fare\", \"Title\"]\n",
    "\n",
    "alg = RandomForestClassifier(random_state=1, n_estimators=50, min_samples_split=8, min_samples_leaf=4)"
   ]
  },
  {
   "cell_type": "code",
   "execution_count": 36,
   "id": "9ee20ed4-b0b6-4763-967d-f6a5c266c5a2",
   "metadata": {},
   "outputs": [
    {
     "name": "stdout",
     "output_type": "stream",
     "text": [
      "0.819304152637486\n"
     ]
    }
   ],
   "source": [
    "# 通过以上特征的重要性分析，选择出4个最重要的特性，重新进行随机森林算法的运算\n",
    "predictors = [\"Pclass\", \"Sex\", \"Fare\", \"Title\"]\n",
    "alg = RandomForestClassifier(random_state=1, n_estimators=50, min_samples_split=8, min_samples_leaf=4)\n",
    "\n",
    "# 进行交叉验证\n",
    "kf = KFold(n_splits=3, random_state=1, shuffle=True)\n",
    "scores = cross_val_score(alg, ship[predictors], ship[\"Survived\"], cv=kf)\n",
    "\n",
    "# 目前的结果并无明显提升，本处理是为了练习在随机森林中的特征选择。它对于实际的数据挖掘具有重要意义\n",
    "print(scores.mean())"
   ]
  },
  {
   "cell_type": "code",
   "execution_count": 38,
   "id": "a2d1d780-bdbe-4e4c-bbe9-5541100f8b42",
   "metadata": {},
   "outputs": [
    {
     "name": "stdout",
     "output_type": "stream",
     "text": [
      "Soft Voting Test w/bin score mean: 83.73 %\n"
     ]
    }
   ],
   "source": [
    "from sklearn import ensemble\n",
    "from sklearn.model_selection import cross_validate\n",
    "\n",
    "# 我们要集成的算法.\n",
    "# 我们使用了线性预测器来进行逻辑回归，以及使用梯度提升分类器.\n",
    "voting_est = [\n",
    "    ('gbc', GradientBoostingClassifier(random_state=1, n_estimators=25, max_depth=5)),\n",
    "    ('lr', LogisticRegression(random_state=1)),\n",
    "]\n",
    "\n",
    "predictors = [\"Pclass\", \"Sex\",\"Fare\", \"FamilySize\", \"Title\", \"Age\", \"Embarked\"]\n",
    "\n",
    "# Soft Vote or weighted probabilities\n",
    "voting_soft = ensemble.VotingClassifier(estimators=voting_est, voting='soft')\n",
    "voting_soft_cv = cross_validate(voting_soft, ship[predictors], ship[\"Survived\"], cv=kf)\n",
    "voting_soft.fit(ship[predictors], ship[\"Survived\"])\n",
    "print(\"Soft Voting Test w/bin score mean: {:.2f} %\".format(voting_soft_cv['test_score'].mean() * 100))"
   ]
  },
  {
   "cell_type": "code",
   "execution_count": null,
   "id": "6f01b521-9c30-4166-838c-4e3210945fd1",
   "metadata": {},
   "outputs": [],
   "source": []
  }
 ],
 "metadata": {
  "kernelspec": {
   "display_name": "Python 3 (ipykernel)",
   "language": "python",
   "name": "python3"
  },
  "language_info": {
   "codemirror_mode": {
    "name": "ipython",
    "version": 3
   },
   "file_extension": ".py",
   "mimetype": "text/x-python",
   "name": "python",
   "nbconvert_exporter": "python",
   "pygments_lexer": "ipython3",
   "version": "3.11.1"
  }
 },
 "nbformat": 4,
 "nbformat_minor": 5
}
