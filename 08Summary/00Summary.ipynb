{
 "cells": [
  {
   "cell_type": "code",
   "execution_count": 4,
   "id": "051443e9-4436-4416-a55c-b6469727a4b2",
   "metadata": {},
   "outputs": [],
   "source": [
    "\n",
    "from sklearn.base import BaseEstimator, TransformerMixin\n",
    "\n",
    "class MyTransformer(BaseEstimator, TransformerMixin):\n",
    "    def __init__(self, first_parameter=1, second_parameter=2):\n",
    "        # 所有参数必须在__init__函数中指定\n",
    "        self.first_parameter = 1\n",
    "        self.second_parameter = 2\n",
    "\n",
    "    def fit(self, X, y=None):\n",
    "        # fit应该只接受X和y作为参数\n",
    "        # 即使你的模型是无监督的，你也需要接受一个y参数！\n",
    "    \n",
    "        # 下面是模型拟合的代码\n",
    "        print(\"fitting the model right here\")\n",
    "        # fit返回self\n",
    "        return self\n",
    "    \n",
    "    def transform(self, X):\n",
    "        # transform只接受X作为参数\n",
    "    \n",
    "        # 对X应用某种变换\n",
    "        X_transformed = X + 1\n",
    "        return X_transformed"
   ]
  },
  {
   "cell_type": "code",
   "execution_count": null,
   "id": "a3014c8d-6ce8-4348-a18e-9ba026886960",
   "metadata": {},
   "outputs": [],
   "source": []
  },
  {
   "cell_type": "code",
   "execution_count": null,
   "id": "e88fba32-0076-4463-a0dc-d931b9869cf9",
   "metadata": {},
   "outputs": [],
   "source": []
  }
 ],
 "metadata": {
  "kernelspec": {
   "display_name": "Python 3 (ipykernel)",
   "language": "python",
   "name": "python3"
  },
  "language_info": {
   "codemirror_mode": {
    "name": "ipython",
    "version": 3
   },
   "file_extension": ".py",
   "mimetype": "text/x-python",
   "name": "python",
   "nbconvert_exporter": "python",
   "pygments_lexer": "ipython3",
   "version": "3.11.1"
  }
 },
 "nbformat": 4,
 "nbformat_minor": 5
}
